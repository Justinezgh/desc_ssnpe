{
 "cells": [
  {
   "cell_type": "code",
   "execution_count": 9,
   "id": "9ae28b63-f8be-439f-b11b-388c0b8ae83b",
   "metadata": {
    "tags": []
   },
   "outputs": [
    {
     "name": "stdout",
     "output_type": "stream",
     "text": [
      "######## CONFIG LSST Y 10 ########\n",
      "######## DATASET ########\n",
      "######## LOSSES & UPDATE FUN ########\n"
     ]
    },
    {
     "name": "stderr",
     "output_type": "stream",
     "text": [
      "  0%|          | 0/1000 [00:00<?, ?it/s]/linkhome/rech/genkqu01/ufa23yn/.local/lib/python3.10/site-packages/jax_cosmo/scipy/interpolate.py:35: UserWarning: Explicitly requested dtype <class 'jax.numpy.int64'> requested in astype is not available, and will be truncated to dtype int32. To enable more dtypes, set the jax_enable_x64 configuration option or the JAX_ENABLE_X64 shell environment variable. See https://github.com/google/jax#current-gotchas for more.\n",
      "  s = np.sign(np.clip(x, xp[1], xp[-2]) - xi).astype(np.int64)\n",
      "/linkhome/rech/genkqu01/ufa23yn/.local/lib/python3.10/site-packages/jax_cosmo/scipy/interpolate.py:36: UserWarning: Explicitly requested dtype <class 'jax.numpy.int64'> requested in astype is not available, and will be truncated to dtype int32. To enable more dtypes, set the jax_enable_x64 configuration option or the JAX_ENABLE_X64 shell environment variable. See https://github.com/google/jax#current-gotchas for more.\n",
      "  a = (fp[ind + np.copysign(1, s).astype(np.int64)] - fp[ind]) / (\n",
      "/linkhome/rech/genkqu01/ufa23yn/.local/lib/python3.10/site-packages/jax_cosmo/scipy/interpolate.py:37: UserWarning: Explicitly requested dtype <class 'jax.numpy.int64'> requested in astype is not available, and will be truncated to dtype int32. To enable more dtypes, set the jax_enable_x64 configuration option or the JAX_ENABLE_X64 shell environment variable. See https://github.com/google/jax#current-gotchas for more.\n",
      "  xp[ind + np.copysign(1, s).astype(np.int64)] - xp[ind]\n",
      "100%|██████████| 1000/1000 [02:44<00:00,  6.08it/s]\n"
     ]
    }
   ],
   "source": [
    "from functools import partial\n",
    "from tqdm import tqdm\n",
    "\n",
    "import numpy as np\n",
    "import jax\n",
    "from sbi_lens.simulator.utils import gaussian_log_likelihood\n",
    "from sbi_lens.simulator.LogNormal_field import lensingLogNormal\n",
    "from sbi_lens.config import config_lsst_y_10\n",
    "\n",
    "\n",
    "from sbi_lens.metrics.c2st import c2st\n",
    "\n",
    "\n",
    "######## CONFIG LSST Y 10 ########\n",
    "print('######## CONFIG LSST Y 10 ########')\n",
    "dim              = 6\n",
    "\n",
    "N                = config_lsst_y_10.N\n",
    "map_size         = config_lsst_y_10.map_size\n",
    "sigma_e          = config_lsst_y_10.sigma_e\n",
    "gals_per_arcmin2 = config_lsst_y_10.gals_per_arcmin2\n",
    "nbins            = config_lsst_y_10.nbins\n",
    "a                = config_lsst_y_10.a\n",
    "b                = config_lsst_y_10.b\n",
    "z0               = config_lsst_y_10.z0\n",
    "\n",
    "truth            = config_lsst_y_10.truth\n",
    "\n",
    "params_name      = config_lsst_y_10.params_name_latex\n",
    "\n",
    "\n",
    "######## DATASET ########\n",
    "print('######## DATASET ########')\n",
    "\n",
    "dataset = np.load('./LOADED&COMPRESSED_year_10_with_noise_score_density_proposal.npz', allow_pickle=True)['arr_0']\n",
    "\n",
    "m_data = np.load('./data/m_data__256N_10ms_27gpa_0.26se.npy')\n",
    "\n",
    "######## LOSSES & UPDATE FUN ########\n",
    "print('######## LOSSES & UPDATE FUN ########')\n",
    "\n",
    "log_likelihood = partial(\n",
    "    gaussian_log_likelihood, \n",
    "    mass_map = np.array(m_data),\n",
    "    map_size = map_size,\n",
    "    sigma_e = sigma_e,\n",
    "    a = a,\n",
    "    b = b,\n",
    "    z0 = z0,\n",
    "    gals_per_arcmin2 = gals_per_arcmin2\n",
    ")\n",
    "\n",
    "prob_anlytic_likelihood_fn = jax.jit(jax.vmap(log_likelihood))\n",
    "\n",
    "probs = []\n",
    "for i in tqdm(range(100_000 // 100)):\n",
    "  probs.append(prob_anlytic_likelihood_fn(dataset.item()['theta'][i*100:(i+1)*100]))\n",
    "probs = np.concatenate(probs)"
   ]
  },
  {
   "cell_type": "code",
   "execution_count": 10,
   "id": "23f44702-b689-4773-9395-14746d0948ae",
   "metadata": {
    "tags": []
   },
   "outputs": [
    {
     "data": {
      "text/plain": [
       "array([31990.424, 31991.385, 31990.23 , ..., 31989.08 , 31989.406,\n",
       "       31988.945], dtype=float32)"
      ]
     },
     "execution_count": 10,
     "metadata": {},
     "output_type": "execute_result"
    }
   ],
   "source": [
    "probs"
   ]
  },
  {
   "cell_type": "code",
   "execution_count": 5,
   "id": "0d2426c6-ddb6-45c4-8d37-e3f33689c545",
   "metadata": {
    "tags": []
   },
   "outputs": [],
   "source": [
    "np.save('probs_ps_likelihood.npy', probs)"
   ]
  }
 ],
 "metadata": {
  "kernelspec": {
   "display_name": "tensorflow-gpu-2.11.0_py3.10.8",
   "language": "python",
   "name": "module-conda-env-tensorflow-gpu-2.11.0_py3.10.8"
  },
  "language_info": {
   "codemirror_mode": {
    "name": "ipython",
    "version": 3
   },
   "file_extension": ".py",
   "mimetype": "text/x-python",
   "name": "python",
   "nbconvert_exporter": "python",
   "pygments_lexer": "ipython3",
   "version": "3.10.8"
  }
 },
 "nbformat": 4,
 "nbformat_minor": 5
}
