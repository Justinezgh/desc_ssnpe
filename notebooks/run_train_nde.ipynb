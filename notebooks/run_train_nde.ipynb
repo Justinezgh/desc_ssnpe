{
  "cells": [
    {
      "cell_type": "markdown",
      "metadata": {
        "id": "view-in-github",
        "colab_type": "text"
      },
      "source": [
        "<a href=\"https://colab.research.google.com/github/Justinezgh/ssnpe_desc_project/blob/main/notebooks/run_train_nde.ipynb\" target=\"_parent\"><img src=\"https://colab.research.google.com/assets/colab-badge.svg\" alt=\"Open In Colab\"/></a>"
      ]
    },
    {
      "cell_type": "code",
      "execution_count": 1,
      "metadata": {
        "colab": {
          "base_uri": "https://localhost:8080/"
        },
        "id": "J7cStI8kqC9V",
        "outputId": "e14dc08f-e6d1-419b-e654-a65f3bf59ebf"
      },
      "outputs": [
        {
          "output_type": "stream",
          "name": "stdout",
          "text": [
            "  Preparing metadata (setup.py) ... \u001b[?25l\u001b[?25hdone\n",
            "\u001b[2K     \u001b[90m━━━━━━━━━━━━━━━━━━━━━━━━━━━━━━━━━━━━━━━\u001b[0m \u001b[32m360.3/360.3 kB\u001b[0m \u001b[31m2.8 MB/s\u001b[0m eta \u001b[36m0:00:00\u001b[0m\n",
            "\u001b[2K     \u001b[90m━━━━━━━━━━━━━━━━━━━━━━━━━━━━━━━━━━━━━━━\u001b[0m \u001b[32m151.2/151.2 kB\u001b[0m \u001b[31m5.8 MB/s\u001b[0m eta \u001b[36m0:00:00\u001b[0m\n",
            "\u001b[2K     \u001b[90m━━━━━━━━━━━━━━━━━━━━━━━━━━━━━━━━━━━━━━━\u001b[0m \u001b[32m304.6/304.6 kB\u001b[0m \u001b[31m9.7 MB/s\u001b[0m eta \u001b[36m0:00:00\u001b[0m\n",
            "\u001b[2K     \u001b[90m━━━━━━━━━━━━━━━━━━━━━━━━━━━━━━━━━━━━━━\u001b[0m \u001b[32m287.4/287.4 kB\u001b[0m \u001b[31m15.7 MB/s\u001b[0m eta \u001b[36m0:00:00\u001b[0m\n",
            "\u001b[?25h  Preparing metadata (setup.py) ... \u001b[?25l\u001b[?25hdone\n",
            "\u001b[2K     \u001b[90m━━━━━━━━━━━━━━━━━━━━━━━━━━━━━━━━━━━━━━\u001b[0m \u001b[32m259.6/259.6 kB\u001b[0m \u001b[31m19.8 MB/s\u001b[0m eta \u001b[36m0:00:00\u001b[0m\n",
            "\u001b[?25h  Preparing metadata (setup.py) ... \u001b[?25l\u001b[?25hdone\n",
            "  Preparing metadata (setup.py) ... \u001b[?25l\u001b[?25hdone\n",
            "  Building wheel for sbi-lens (setup.py) ... \u001b[?25l\u001b[?25hdone\n",
            "  Building wheel for jax-cosmo (setup.py) ... \u001b[?25l\u001b[?25hdone\n",
            "  Building wheel for lenstools (setup.py) ... \u001b[?25l\u001b[?25hdone\n",
            "  Building wheel for emcee (setup.py) ... \u001b[?25l\u001b[?25hdone\n",
            "\u001b[2K     \u001b[90m━━━━━━━━━━━━━━━━━━━━━━━━━━━━━━━━━━━━━━━━\u001b[0m \u001b[32m43.5/43.5 kB\u001b[0m \u001b[31m1.6 MB/s\u001b[0m eta \u001b[36m0:00:00\u001b[0m\n",
            "\u001b[?25h  Preparing metadata (setup.py) ... \u001b[?25l\u001b[?25hdone\n",
            "  Building wheel for chainconsumer (setup.py) ... \u001b[?25l\u001b[?25hdone\n",
            "Cloning into 'sbi_lens'...\n",
            "remote: Enumerating objects: 1000, done.\u001b[K\n",
            "remote: Counting objects: 100% (359/359), done.\u001b[K\n",
            "remote: Compressing objects: 100% (235/235), done.\u001b[K\n",
            "remote: Total 1000 (delta 159), reused 216 (delta 117), pack-reused 641\u001b[K\n",
            "Receiving objects: 100% (1000/1000), 82.46 MiB | 12.48 MiB/s, done.\n",
            "Resolving deltas: 100% (573/573), done.\n",
            "Cloning into 'ssnpe_desc_project'...\n",
            "remote: Enumerating objects: 1781, done.\u001b[K\n",
            "remote: Counting objects: 100% (49/49), done.\u001b[K\n",
            "remote: Compressing objects: 100% (42/42), done.\u001b[K\n",
            "remote: Total 1781 (delta 13), reused 20 (delta 7), pack-reused 1732\u001b[K\n",
            "Receiving objects: 100% (1781/1781), 877.75 MiB | 18.60 MiB/s, done.\n",
            "Resolving deltas: 100% (69/69), done.\n",
            "Updating files: 100% (334/334), done.\n"
          ]
        }
      ],
      "source": [
        "!pip install --quiet git+https://github.com/DifferentiableUniverseInitiative/sbi_lens.git\n",
        "!pip install --quiet chainconsumer\n",
        "!git clone https://github.com/DifferentiableUniverseInitiative/sbi_lens.git\n",
        "!git clone https://github.com/Justinezgh/ssnpe_desc_project.git"
      ]
    },
    {
      "cell_type": "code",
      "source": [
        "%load_ext autoreload\n",
        "%autoreload 2"
      ],
      "metadata": {
        "id": "b2S18-zBEHT7",
        "colab": {
          "base_uri": "https://localhost:8080/"
        },
        "outputId": "1d77b862-eb5d-4476-cd0f-ec387a27cd2a"
      },
      "execution_count": 4,
      "outputs": [
        {
          "output_type": "stream",
          "name": "stdout",
          "text": [
            "The autoreload extension is already loaded. To reload it, use:\n",
            "  %reload_ext autoreload\n"
          ]
        }
      ]
    },
    {
      "cell_type": "code",
      "execution_count": 9,
      "metadata": {
        "colab": {
          "base_uri": "https://localhost:8080/"
        },
        "id": "VExT5NCLJGlD",
        "outputId": "8947e17e-f039-4e09-a889-6e0692c19ad3"
      },
      "outputs": [
        {
          "output_type": "stream",
          "name": "stdout",
          "text": [
            "2023-08-08 14:14:35.009263: W tensorflow/compiler/tf2tensorrt/utils/py_utils.cc:38] TF-TRT Warning: Could not find TensorRT\n",
            "PARAMS---------------\n",
            "---------------------\n",
            "total_steps: 500\n",
            "score_weight: 0\n",
            "exp_id: 2\n",
            "seed: 0\n",
            "n_flow_layers: 8\n",
            "n_bijector_layers: 5\n",
            "activ_fun: silu\n",
            "lr_schedule: exp_decay\n",
            "proposal: prior\n",
            "sbi method: npe\n",
            "---------------------\n",
            "---------------------\n",
            "... prepare config lsst year 10\n",
            "done ✓\n",
            "... load observation and reference posterior\n",
            "done ✓\n",
            "... load dataset\n",
            "done ✓\n",
            "... prepare compressor\n",
            "done ✓\n",
            "... build nde\n",
            "done ✓\n",
            "... prepare loss and update functions\n",
            "done ✓\n",
            "... TRAINING\n",
            "loss -10.932: 100% 501/501 [01:46<00:00,  4.70it/s]\n",
            "done ✓\n",
            "... save params and make plots\n",
            "done ✓\n",
            "... save info job\n",
            "done ✓\n"
          ]
        }
      ],
      "source": [
        "!python ssnpe_desc_project/scripts/train_nde.py --sbi_method 'npe' --proposal 'prior' --total_steps 500 --exp_id job_2 --n_flow_layers 8 --n_bijector_layers 5"
      ]
    },
    {
      "cell_type": "code",
      "source": [],
      "metadata": {
        "id": "0pIqG-DiZwC4"
      },
      "execution_count": null,
      "outputs": []
    }
  ],
  "metadata": {
    "accelerator": "GPU",
    "colab": {
      "provenance": [],
      "authorship_tag": "ABX9TyMMtpbs2WtBu9/X+vt3NNOt",
      "include_colab_link": true
    },
    "kernelspec": {
      "display_name": "Python 3",
      "name": "python3"
    },
    "language_info": {
      "name": "python"
    }
  },
  "nbformat": 4,
  "nbformat_minor": 0
}