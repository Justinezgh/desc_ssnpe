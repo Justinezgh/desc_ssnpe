{
  "cells": [
    {
      "cell_type": "markdown",
      "metadata": {
        "id": "view-in-github",
        "colab_type": "text"
      },
      "source": [
        "<a href=\"https://colab.research.google.com/github/Justinezgh/ssnpe_desc_project/blob/main/notebooks/dev/npe_lensing_pb_reweighting_afterwards.ipynb\" target=\"_parent\"><img src=\"https://colab.research.google.com/assets/colab-badge.svg\" alt=\"Open In Colab\"/></a>"
      ]
    },
    {
      "cell_type": "code",
      "execution_count": null,
      "metadata": {
        "colab": {
          "base_uri": "https://localhost:8080/"
        },
        "id": "J7cStI8kqC9V",
        "outputId": "bf6da832-cd9c-4d70-98e6-42c6852c326a"
      },
      "outputs": [
        {
          "output_type": "stream",
          "name": "stdout",
          "text": [
            "  Preparing metadata (setup.py) ... \u001b[?25l\u001b[?25hdone\n",
            "\u001b[2K     \u001b[90m━━━━━━━━━━━━━━━━━━━━━━━━━━━━━━━━━━━━━━━\u001b[0m \u001b[32m360.3/360.3 kB\u001b[0m \u001b[31m2.7 MB/s\u001b[0m eta \u001b[36m0:00:00\u001b[0m\n",
            "\u001b[2K     \u001b[90m━━━━━━━━━━━━━━━━━━━━━━━━━━━━━━━━━━━━━━━\u001b[0m \u001b[32m151.2/151.2 kB\u001b[0m \u001b[31m7.4 MB/s\u001b[0m eta \u001b[36m0:00:00\u001b[0m\n",
            "\u001b[2K     \u001b[90m━━━━━━━━━━━━━━━━━━━━━━━━━━━━━━━━━━━━━━\u001b[0m \u001b[32m304.6/304.6 kB\u001b[0m \u001b[31m20.1 MB/s\u001b[0m eta \u001b[36m0:00:00\u001b[0m\n",
            "\u001b[2K     \u001b[90m━━━━━━━━━━━━━━━━━━━━━━━━━━━━━━━━━━━━━━\u001b[0m \u001b[32m287.4/287.4 kB\u001b[0m \u001b[31m11.7 MB/s\u001b[0m eta \u001b[36m0:00:00\u001b[0m\n",
            "\u001b[?25h  Preparing metadata (setup.py) ... \u001b[?25l\u001b[?25hdone\n",
            "\u001b[2K     \u001b[90m━━━━━━━━━━━━━━━━━━━━━━━━━━━━━━━━━━━━━━\u001b[0m \u001b[32m259.6/259.6 kB\u001b[0m \u001b[31m14.7 MB/s\u001b[0m eta \u001b[36m0:00:00\u001b[0m\n",
            "\u001b[?25h  Preparing metadata (setup.py) ... \u001b[?25l\u001b[?25hdone\n",
            "  Preparing metadata (setup.py) ... \u001b[?25l\u001b[?25hdone\n",
            "  Building wheel for sbi-lens (setup.py) ... \u001b[?25l\u001b[?25hdone\n",
            "  Building wheel for jax-cosmo (setup.py) ... \u001b[?25l\u001b[?25hdone\n",
            "  Building wheel for lenstools (setup.py) ... \u001b[?25l\u001b[?25hdone\n",
            "  Building wheel for emcee (setup.py) ... \u001b[?25l\u001b[?25hdone\n",
            "\u001b[2K     \u001b[90m━━━━━━━━━━━━━━━━━━━━━━━━━━━━━━━━━━━━━━━━\u001b[0m \u001b[32m43.5/43.5 kB\u001b[0m \u001b[31m1.4 MB/s\u001b[0m eta \u001b[36m0:00:00\u001b[0m\n",
            "\u001b[?25h  Preparing metadata (setup.py) ... \u001b[?25l\u001b[?25hdone\n",
            "  Building wheel for chainconsumer (setup.py) ... \u001b[?25l\u001b[?25hdone\n",
            "Cloning into 'sbi_lens'...\n",
            "remote: Enumerating objects: 988, done.\u001b[K\n",
            "remote: Counting objects: 100% (347/347), done.\u001b[K\n",
            "remote: Compressing objects: 100% (228/228), done.\u001b[K\n",
            "remote: Total 988 (delta 150), reused 208 (delta 112), pack-reused 641\u001b[K\n",
            "Receiving objects: 100% (988/988), 82.46 MiB | 32.19 MiB/s, done.\n",
            "Resolving deltas: 100% (564/564), done.\n",
            "Cloning into 'ssnpe_desc_project'...\n",
            "remote: Enumerating objects: 1027, done.\u001b[K\n",
            "remote: Counting objects: 100% (53/53), done.\u001b[K\n",
            "remote: Compressing objects: 100% (34/34), done.\u001b[K\n",
            "remote: Total 1027 (delta 15), reused 53 (delta 15), pack-reused 974\u001b[K\n",
            "Receiving objects: 100% (1027/1027), 864.05 MiB | 36.71 MiB/s, done.\n",
            "Resolving deltas: 100% (16/16), done.\n",
            "Updating files: 100% (333/333), done.\n"
          ]
        }
      ],
      "source": [
        "!pip install --quiet git+https://github.com/DifferentiableUniverseInitiative/sbi_lens.git\n",
        "!pip install --quiet chainconsumer\n",
        "!git clone https://github.com/DifferentiableUniverseInitiative/sbi_lens\n",
        "!git clone https://github.com/Justinezgh/ssnpe_desc_project.git"
      ]
    },
    {
      "cell_type": "code",
      "execution_count": null,
      "metadata": {
        "id": "ATx_e25Cq9mo"
      },
      "outputs": [],
      "source": [
        "import matplotlib.pyplot as plt\n",
        "from functools import partial\n",
        "from tqdm import tqdm\n",
        "import pickle\n",
        "import argparse\n",
        "import os\n",
        "from chainconsumer import ChainConsumer\n",
        "\n",
        "import numpy as np\n",
        "import jax\n",
        "import jax.numpy as jnp\n",
        "\n",
        "import numpyro.distributions as dist\n",
        "from numpyro.handlers import condition, trace, seed\n",
        "\n",
        "import jax_cosmo as jc\n",
        "\n",
        "from haiku._src.nets.resnet import ResNet18\n",
        "import optax\n",
        "import haiku as hk\n",
        "\n",
        "import tensorflow_datasets as tfds\n",
        "import tensorflow as tf\n",
        "\n",
        "import tensorflow_probability as tfp; tfp = tfp.experimental.substrates.jax\n",
        "tfb = tfp.bijectors\n",
        "tfd = tfp.distributions\n",
        "\n",
        "from sbi_lens.simulator.LogNormal_field import lensingLogNormal\n",
        "from sbi_lens.config import config_lsst_y_10\n",
        "from sbi_lens.normflow.models import (\n",
        "  ConditionalRealNVP,\n",
        "  AffineCoupling\n",
        ")\n"
      ]
    },
    {
      "cell_type": "code",
      "execution_count": null,
      "metadata": {
        "colab": {
          "base_uri": "https://localhost:8080/"
        },
        "id": "K1zB0zCTp2QD",
        "outputId": "977f0af3-ada8-454a-adab-5fecf4649380"
      },
      "outputs": [
        {
          "output_type": "stream",
          "name": "stdout",
          "text": [
            "lr schedule  1\n",
            "######## TRAINING PARAMS ########\n",
            "######## CONFIG LSST Y 10 ########\n",
            "######## LOAD OBSERVATION AND REFERENCES POSTERIOR ########\n",
            "######## DATASET ########\n",
            "######## COMPRESSOR ########\n"
          ]
        }
      ],
      "source": [
        "total_steps = 10_000\n",
        "score_weight = 0\n",
        "exp_id = 1\n",
        "seed = 1\n",
        "n_flow_layers = 8\n",
        "n_bijector_layers = 5\n",
        "activ_fun = 0\n",
        "lr_schedule = 1\n",
        "\n",
        "PATH = \"npe_{}_{}_{}_{}_{}_{}_{}_{}\".format(\n",
        "  total_steps,\n",
        "  score_weight,\n",
        "  exp_id,\n",
        "  seed,\n",
        "  n_flow_layers,\n",
        "  n_bijector_layers,\n",
        "  activ_fun,\n",
        "  lr_schedule\n",
        ")\n",
        "\n",
        "\n",
        "print('lr schedule ',lr_schedule)\n",
        "\n",
        "######## TRAINING PARAMS ########\n",
        "print('######## TRAINING PARAMS ########')\n",
        "total_steps = total_steps\n",
        "batch_size = 256\n",
        "tmp = list(range(0, 101_000, 5000))\n",
        "tmp[0] = 1000\n",
        "nb_simulations_allow = 10_000\n",
        "score_weight = score_weight\n",
        "\n",
        "\n",
        "######## CONFIG LSST Y 10 ########\n",
        "print('######## CONFIG LSST Y 10 ########')\n",
        "dim              = 6\n",
        "\n",
        "N                = config_lsst_y_10.N\n",
        "map_size         = config_lsst_y_10.map_size\n",
        "sigma_e          = config_lsst_y_10.sigma_e\n",
        "gals_per_arcmin2 = config_lsst_y_10.gals_per_arcmin2\n",
        "nbins            = config_lsst_y_10.nbins\n",
        "a                = config_lsst_y_10.a\n",
        "b                = config_lsst_y_10.b\n",
        "z0               = config_lsst_y_10.z0\n",
        "\n",
        "truth            = config_lsst_y_10.truth\n",
        "\n",
        "params_name      = config_lsst_y_10.params_name_latex\n",
        "\n",
        "######## LOAD OBSERVATION AND REFERENCES POSTERIOR ########\n",
        "print('######## LOAD OBSERVATION AND REFERENCES POSTERIOR ########')\n",
        "\n",
        "# load reference posterior\n",
        "sample_ff = jnp.load(\n",
        "  './sbi_lens/sbi_lens/data/posterior_full_field__256N_10ms_27gpa_0.26se.npy'\n",
        ")\n",
        "\n",
        "# plot observed mass map\n",
        "m_data = jnp.load('./sbi_lens/sbi_lens/data/m_data__256N_10ms_27gpa_0.26se.npy')\n",
        "\n",
        "######## DATASET ########\n",
        "print('######## DATASET ########')\n",
        "\n",
        "dataset = np.load('./ssnpe_desc_project/data/LOADED&COMPRESSED_year_10_with_noise_score_density_proposal.npz', allow_pickle=True)['arr_0']\n",
        "\n",
        "######## COMPRESSOR ########\n",
        "print('######## COMPRESSOR ########')\n",
        "\n",
        "compressor = hk.transform_with_state(\n",
        "    lambda y : ResNet18(dim)(y, is_training=False)\n",
        ")\n",
        "\n",
        "a_file = open('./sbi_lens/sbi_lens/data/params_compressor/opt_state_resnet_vmim.pkl', \"rb\")\n",
        "opt_state_resnet= pickle.load(a_file)\n",
        "\n",
        "a_file = open('./sbi_lens/sbi_lens/data/params_compressor/params_nd_compressor_vmim.pkl', \"rb\")\n",
        "parameters_compressor= pickle.load(a_file)\n",
        "\n",
        "m_data_comressed, _ = compressor.apply(\n",
        "  parameters_compressor,\n",
        "  opt_state_resnet,\n",
        "  None,\n",
        "  m_data.reshape([1, N, N, nbins])\n",
        ")"
      ]
    },
    {
      "cell_type": "code",
      "execution_count": null,
      "metadata": {
        "id": "327SH8pWCgIb"
      },
      "outputs": [],
      "source": [
        "inds = jnp.unique(jnp.where(jnp.isnan(dataset.item()['score']))[0])\n",
        "dataset_y = jnp.delete(dataset.item()['y'], inds, axis = 0)\n",
        "dataset_score = jnp.delete(dataset.item()['score'], inds, axis = 0)\n",
        "dataset_theta = jnp.delete(dataset.item()['theta'], inds, axis = 0)"
      ]
    },
    {
      "cell_type": "code",
      "execution_count": null,
      "metadata": {
        "colab": {
          "base_uri": "https://localhost:8080/"
        },
        "id": "NxM7zt8trLK0",
        "outputId": "141eb2c1-ecb0-4d18-d393-446ede6acf50"
      },
      "outputs": [
        {
          "output_type": "stream",
          "name": "stdout",
          "text": [
            "######## NDE ########\n",
            "######## LOSSES & UPDATE FUN ########\n",
            "######## TRAIN ########\n"
          ]
        }
      ],
      "source": [
        "######## CREATE NDE ########\n",
        "print('######## NDE ########')\n",
        "\n",
        "from sbi_lens.normflow.models import ConditionalRealNVP, AffineSigmoidCoupling\n",
        "import numpyro.distributions as dist\n",
        "\n",
        "\n",
        "key = jax.random.PRNGKey(0)\n",
        "\n",
        "omega_c = dist.TruncatedNormal(0.2664, 0.2, low=0).sample(key, (1000,))\n",
        "omega_b = dist.Normal(0.0492, 0.006).sample(key, (1000,))\n",
        "sigma_8 = dist.Normal(0.831, 0.14).sample(key, (1000,))\n",
        "h_0 = dist.Normal(0.6727, 0.063).sample(key, (1000,))\n",
        "n_s = dist.Normal(0.9645, 0.08).sample(key, (1000,))\n",
        "w_0 = dist.TruncatedNormal(-1.0, 0.9, low=-2.0, high=-0.3).sample(key, (1000,))\n",
        "\n",
        "theta = jnp.stack([omega_c, omega_b, sigma_8, h_0, n_s, w_0], axis=-1)\n",
        "\n",
        "scale_theta = jnp.std(theta, axis=0) / 0.07\n",
        "shift_theta = jnp.mean(theta / scale_theta, axis=0) - 0.5\n",
        "\n",
        "normalized_p = tfb.Chain([tfb.Scale(scale_theta),tfb.Shift(shift_theta)]).inverse(theta)\n",
        "\n",
        "\n",
        "bijector_layers = [128] * n_bijector_layers\n",
        "\n",
        "if activ_fun == 0 :\n",
        "  activ_fun = jax.nn.silu\n",
        "  activ_fun_string = 'silu'\n",
        "elif activ_fun == 1:\n",
        "  activ_fun = jnp.sin\n",
        "  activ_fun_string = 'sin'\n",
        "\n",
        "bijector_npe = partial(\n",
        "    AffineSigmoidCoupling,\n",
        "    layers=bijector_layers,\n",
        "    activation=activ_fun,\n",
        "    n_components=16\n",
        "  )\n",
        "\n",
        "NF_npe = partial(\n",
        "  ConditionalRealNVP,\n",
        "  n_layers=n_flow_layers,\n",
        "  bijector_fn=bijector_npe)\n",
        "\n",
        "class SmoothNPE(hk.Module):\n",
        "    def __call__(self, y):\n",
        "        nvp = NF_npe(dim)(y)\n",
        "        return tfd.TransformedDistribution(\n",
        "            nvp,\n",
        "            tfb.Chain([tfb.Scale(scale_theta), tfb.Shift(shift_theta)]))\n",
        "\n",
        "\n",
        "nvp_nd = hk.without_apply_rng(hk.transform(lambda theta,y : SmoothNPE()(y).log_prob(theta).squeeze()))\n",
        "\n",
        "log_prob_fn = lambda params, theta, y : nvp_nd.apply(params, theta, y)\n",
        "\n",
        "nvp_sample_nd = hk.transform(\n",
        "lambda y : SmoothNPE()(y).sample(len(sample_ff), seed=hk.next_rng_key())\n",
        "  )\n",
        "\n",
        "######## LOSSES & UPDATE FUN ########\n",
        "print('######## LOSSES & UPDATE FUN ########')\n",
        "\n",
        "def loss_nll(\n",
        "    params,\n",
        "    mu,\n",
        "    batch,\n",
        "    weight,\n",
        "    score,\n",
        "    weight_score\n",
        "):\n",
        "\n",
        "    lp, out = jax.vmap(\n",
        "      jax.value_and_grad(lambda theta, x: log_prob_fn(params, theta.reshape([1,dim]), x.reshape([1,dim])).squeeze())\n",
        "    )(mu, batch)\n",
        "\n",
        "    return - jnp.mean(lp) + weight_score * jnp.sum((out - score)**2, axis=-1).mean()\n",
        "\n",
        "@jax.jit\n",
        "def update(params, opt_state, mu, batch, w, score, weight_score):\n",
        "    \"\"\"Single SGD update step.\"\"\"\n",
        "    loss, grads  = jax.value_and_grad(loss_nll)(\n",
        "        params,\n",
        "        mu,\n",
        "        batch,\n",
        "        w,\n",
        "        score,\n",
        "        weight_score\n",
        "    )\n",
        "    updates, new_opt_state = optimizer.update(grads, opt_state, params)\n",
        "    new_params = optax.apply_updates(params, updates)\n",
        "\n",
        "    return loss, new_params, new_opt_state\n",
        "\n",
        "\n",
        "######## TRAIN ########\n",
        "print('######## TRAIN ########')\n",
        "\n",
        "params = nvp_nd.init(\n",
        "    jax.random.PRNGKey(seed),\n",
        "    0.5 * jnp.ones([1, dim]),\n",
        "    0.5 * jnp.ones([1, dim])\n",
        ")\n",
        "\n",
        "\n",
        "#optimizer\n",
        "if lr_schedule == 0:\n",
        "  print('lr schedure 0')\n",
        "  lr_scheduler = optax.piecewise_constant_schedule(\n",
        "      init_value=0.001,\n",
        "      boundaries_and_scales={\n",
        "        int(total_steps*0.4):0.2,\n",
        "        int(total_steps*0.6):0.3,\n",
        "        int(total_steps*0.8):0.4,\n",
        "        int(total_steps*1):0.5,\n",
        "     }\n",
        "  )\n",
        "  lr_schedule_string = 'p_c_s'\n",
        "\n",
        "elif lr_schedule == 1:\n",
        "  lr_scheduler = optax.exponential_decay(\n",
        "      init_value = 0.001,\n",
        "      transition_steps = total_steps // 50,\n",
        "      decay_rate = 0.9,\n",
        "      end_value = 1e-5\n",
        "  )\n",
        "  lr_schedule_string = 'exp_decay'\n",
        "\n",
        "optimizer = optax.adam(lr_scheduler)\n",
        "opt_state = optimizer.init(params)"
      ]
    },
    {
      "cell_type": "code",
      "execution_count": null,
      "metadata": {
        "colab": {
          "base_uri": "https://localhost:8080/"
        },
        "id": "22ZtAKm03YZO",
        "outputId": "85ba9487-da40-4c3c-9f6f-b162751b55fa"
      },
      "outputs": [
        {
          "output_type": "stream",
          "name": "stderr",
          "text": [
            "loss -14.933: 100%|██████████| 10001/10001 [07:16<00:00, 22.90it/s]\n"
          ]
        }
      ],
      "source": [
        "batch_loss = []\n",
        "lr_scheduler_store = []\n",
        "pbar = tqdm(range(total_steps + 1))\n",
        "\n",
        "for batch in pbar:\n",
        "  inds = np.random.randint(0, nb_simulations_allow, batch_size)\n",
        "  ex_theta = dataset_theta[inds]\n",
        "  ex_y = dataset_y[inds]\n",
        "  ex_score = dataset_score[inds]\n",
        "  ex_weight = None\n",
        "\n",
        "  if not (jnp.isnan(ex_y).any() or jnp.isnan(ex_score).any()):\n",
        "\n",
        "\n",
        "    l, params, opt_state = update(\n",
        "        params,\n",
        "        opt_state,\n",
        "        ex_theta,\n",
        "        ex_y,\n",
        "        ex_weight,\n",
        "        ex_score,\n",
        "        score_weight\n",
        "    )\n",
        "\n",
        "    batch_loss.append(l)\n",
        "    lr_scheduler_store.append(lr_scheduler(batch))\n",
        "    pbar.set_description(f\"loss {l:.3f}\")\n",
        "\n",
        "    if jnp.isnan(l):\n",
        "      print('NAN')\n",
        "      break"
      ]
    },
    {
      "cell_type": "code",
      "execution_count": null,
      "metadata": {
        "colab": {
          "base_uri": "https://localhost:8080/",
          "height": 469
        },
        "id": "T85CEMT-jVf4",
        "outputId": "22bd7a04-e500-46d3-d988-a042c5cf8c4b"
      },
      "outputs": [
        {
          "output_type": "execute_result",
          "data": {
            "text/plain": [
              "Text(0.5, 1.0, 'Batch Loss')"
            ]
          },
          "metadata": {},
          "execution_count": 7
        },
        {
          "output_type": "display_data",
          "data": {
            "text/plain": [
              "<Figure size 640x480 with 1 Axes>"
            ],
            "image/png": "[encoded data removed]"
          },
          "metadata": {}
        }
      ],
      "source": [
        "# save plot loss\n",
        "plt.figure()\n",
        "plt.plot(batch_loss[10:])\n",
        "plt.title('Batch Loss')"
      ]
    },
    {
      "cell_type": "code",
      "source": [],
      "metadata": {
        "id": "jjXywHX-sXOE"
      },
      "execution_count": null,
      "outputs": []
    },
    {
      "cell_type": "code",
      "execution_count": null,
      "metadata": {
        "colab": {
          "base_uri": "https://localhost:8080/"
        },
        "id": "0Ot0ANr6a3CD",
        "outputId": "969ddc11-8c88-41d8-bcab-d1f245b566d1"
      },
      "outputs": [
        {
          "metadata": {
            "tags": null
          },
          "name": "stderr",
          "output_type": "stream",
          "text": [
            "/usr/local/lib/python3.10/dist-packages/lenstools/utils/mpi.py:15: UserWarning: Could not import mpi4py! (if you set sys.modules['mpi4py']=None please disregard this message)\n",
            "  warnings.warn(wmsg)\n",
            "/usr/local/lib/python3.10/dist-packages/jax/_src/numpy/array_methods.py:796: UserWarning: Explicitly requested dtype <class 'jax.numpy.int64'> requested in astype is not available, and will be truncated to dtype int32. To enable more dtypes, set the jax_enable_x64 configuration option or the JAX_ENABLE_X64 shell environment variable. See https://github.com/google/jax#current-gotchas for more.\n",
            "  return getattr(self.aval, name).fun(self, *args, **kwargs)\n"
          ]
        }
      ],
      "source": [
        "from sbi_lens.simulator.utils import gaussian_log_likelihood\n",
        "\n",
        "log_likelihood = partial(\n",
        "    gaussian_log_likelihood,\n",
        "    nbins=nbins,\n",
        "    mass_map = np.array(m_data),\n",
        "    map_size = map_size,\n",
        "    sigma_e = sigma_e,\n",
        "    a = a,\n",
        "    b = b,\n",
        "    z0 = z0,\n",
        "    gals_per_arcmin2 = gals_per_arcmin2\n",
        ")\n",
        "\n",
        "prob_anlytic_likelihood_fn = jax.jit(log_likelihood)\n",
        "\n",
        "def unnormalized_log_prob(theta):\n",
        "\n",
        "      oc, ob, s8, h0, ns, w0 = theta\n",
        "\n",
        "      prior = dist.TruncatedNormal(0.2664, 0.2, low=0).log_prob(oc)\n",
        "      prior += dist.Normal(0.0492, 0.006).log_prob(ob)\n",
        "      prior += dist.Normal(0.831, 0.14).log_prob(s8)\n",
        "      prior += dist.Normal(0.6727, 0.063).log_prob(h0)\n",
        "      prior += dist.Normal(0.9645, 0.08).log_prob(ns)\n",
        "      prior += dist.TruncatedNormal(-1.0, 0.9, low=-2.0, high=-0.3).log_prob(w0)\n",
        "\n",
        "      likelihood = log_prob_fn(params, theta.reshape([1,dim]), jnp.array(m_data_comressed).reshape([1,dim]))\n",
        "\n",
        "      proposal = prob_anlytic_likelihood_fn(theta)\n",
        "\n",
        "      return likelihood + prior - proposal\n",
        "\n",
        "# Initialize the HMC transition kernel.\n",
        "num_results = int(1e4)\n",
        "num_burnin_steps = int(5e2)\n",
        "adaptive_hmc = tfp.mcmc.SimpleStepSizeAdaptation(\n",
        "    tfp.mcmc.HamiltonianMonteCarlo(\n",
        "        target_log_prob_fn=unnormalized_log_prob,\n",
        "        num_leapfrog_steps=3,\n",
        "        step_size=1e-2),\n",
        "    num_adaptation_steps=int(num_burnin_steps * 0.8))\n",
        "\n",
        "# Run the chain (with burn-in).\n",
        "@jax.jit\n",
        "def run_chain():\n",
        "  # Run the chain (with burn-in).\n",
        "  samples, is_accepted = tfp.mcmc.sample_chain(\n",
        "      num_results=num_results,\n",
        "      num_burnin_steps=num_burnin_steps,\n",
        "      current_state=jnp.array(truth),\n",
        "      kernel=adaptive_hmc,\n",
        "      trace_fn=lambda _, pkr: pkr.inner_results.is_accepted,\n",
        "      seed = jax.random.PRNGKey(0))\n",
        "\n",
        "  return samples, is_accepted\n",
        "\n",
        "samples_hmc, is_accepted_hmc = run_chain()"
      ]
    },
    {
      "cell_type": "code",
      "execution_count": null,
      "metadata": {
        "id": "waNwB-CLjXhp"
      },
      "outputs": [],
      "source": [
        "sample_nd = samples_hmc[is_accepted_hmc].reshape([-1,6])\n",
        "inds = np.random.randint(0, len(sample_nd), len(sample_ff))\n",
        "\n",
        "sample_nd = sample_nd[inds,...]\n",
        "\n",
        "plt.figure()\n",
        "c = ChainConsumer()\n",
        "c.add_chain(sample_ff, parameters=params_name, name='Full Field HMC', shade_alpha = 0.5)\n",
        "c.add_chain(sample_nd, parameters=params_name, name='Full Field SBI', shade_alpha = 0.5)\n",
        "fig = c.plotter.plot(\n",
        "  figsize=1.2,\n",
        "  truth=truth,\n",
        "  extents=[[t - 5 * np.std(sample_ff[:,i]),\n",
        "            t + 5 * np.std(sample_ff[:,i])] for i,t in enumerate(truth)]\n",
        ")"
      ]
    },
    {
      "cell_type": "code",
      "execution_count": null,
      "metadata": {
        "id": "dDb9_7Sol11r"
      },
      "outputs": [],
      "source": []
    }
  ],
  "metadata": {
    "accelerator": "GPU",
    "colab": {
      "provenance": [],
      "authorship_tag": "ABX9TyOLkxfOtX3ZUmZEL7gmPoxa",
      "include_colab_link": true
    },
    "kernelspec": {
      "display_name": "Python 3",
      "name": "python3"
    },
    "language_info": {
      "name": "python"
    }
  },
  "nbformat": 4,
  "nbformat_minor": 0
}